{
 "cells": [
  {
   "cell_type": "markdown",
   "id": "ba42714e",
   "metadata": {},
   "source": [
    "# Hands-on Exercises\n",
    "## Question 1\n",
    "1. Rotations. Implement transformation from rotation matrix to Euler angles and vice versa\n",
    "\n",
    "    1. Implement a function that receives as input Euler angles (roll angle $\\displaystyle \\phi $, pitch angle $\\displaystyle \\theta $, and yaw angle $\\displaystyle \\psi $) and calculates the corresponding rotation matrix assuming roll pitch-yaw order from Body to Global: $\\displaystyle R=R_{Z}( \\psi ) R_{Y}( \\theta ) R_{X}( \\phi )$.\n",
    "    2. What is the rotation matrix from Body to Global for $\\displaystyle \\psi =\\pi /7$, $\\displaystyle \\theta =\\pi /5$, and $\\displaystyle \\phi =\\pi /4$?\n",
    "    3. Implement a function that receives as input a rotation matrix and calculates the corresponding Euler angles assuming roll-pitch-yaw order.\n",
    "    4. What are the Euler angles \\underline{in degrees} for the following rotation matrix (Body to Global, assuming roll-pitch-yaw order):\n",
    "\n",
    "\\begin{equation*}\n",
    "R_{B}^{G} =\\begin{pmatrix}\n",
    "0.813797681 & −0.440969611 & 0.378522306\\\\\n",
    "0.46984631 & 0.882564119 & 0.0180283112\\\\\n",
    "−0.342020143 & \\ 0.163175911 & 0.925416578\n",
    "\\end{pmatrix}\n",
    "\\end{equation*}"
   ]
  },
  {
   "cell_type": "markdown",
   "id": "89a8bac6",
   "metadata": {},
   "source": [
    "### Answer 1A"
   ]
  },
  {
   "cell_type": "code",
   "execution_count": 1,
   "id": "1464f52d",
   "metadata": {},
   "outputs": [],
   "source": [
    "import numpy as np\n",
    "\n",
    "def euler_to_matrix(roll, pitch, yaw):\n",
    "    \"\"\"\n",
    "    Convert Euler angles (roll, pitch, yaw) to a rotation matrix in RPY order.\n",
    "    \n",
    "    Args:\n",
    "        roll (float): Roll angle in radians.\n",
    "        pitch (float): Pitch angle in radians.\n",
    "        yaw (float): Yaw angle in radians.\n",
    "    \n",
    "    Returns:\n",
    "        np.ndarray: Rotation matrix (3x3).\n",
    "    \"\"\"\n",
    "    R_x = np.array([[1, 0, 0],\n",
    "                    [0, np.cos(roll), -np.sin(roll)],\n",
    "                    [0, np.sin(roll), np.cos(roll)]])\n",
    "    \n",
    "    R_y = np.array([[np.cos(pitch), 0, np.sin(pitch)],\n",
    "                    [0, 1, 0],\n",
    "                    [-np.sin(pitch), 0, np.cos(pitch)]])\n",
    "    \n",
    "    R_z = np.array([[np.cos(yaw), -np.sin(yaw), 0],\n",
    "                    [np.sin(yaw), np.cos(yaw), 0],\n",
    "                    [0, 0, 1]])\n",
    "    \n",
    "    # Combine rotations in RPY order: R = Rz * Ry * Rx\n",
    "    R = np.dot(R_z, np.dot(R_y, R_x))\n",
    "    \n",
    "    return R"
   ]
  },
  {
   "cell_type": "markdown",
   "id": "6011ccfe",
   "metadata": {},
   "source": [
    "### Answer 1B"
   ]
  },
  {
   "cell_type": "code",
   "execution_count": 2,
   "id": "534a9b18",
   "metadata": {},
   "outputs": [
    {
     "name": "stdout",
     "output_type": "stream",
     "text": [
      "Rotation Matrix:\n",
      "[[ 0.5720614  -0.45674743  0.68126907]\n",
      " [ 0.5720614   0.81741497  0.0676648 ]\n",
      " [-0.58778525  0.35101932  0.72889913]]\n"
     ]
    }
   ],
   "source": [
    "from numpy import pi\n",
    "\n",
    "roll_angle = pi / 7\n",
    "pitch_angle = pi / 5\n",
    "yaw_angle = pi / 4\n",
    "\n",
    "# Convert Euler angles to rotation matrix\n",
    "rotation_matrix = euler_to_matrix(roll_angle, pitch_angle, yaw_angle)\n",
    "print(\"Rotation Matrix:\")\n",
    "print(rotation_matrix)"
   ]
  },
  {
   "cell_type": "markdown",
   "id": "1d3454c8",
   "metadata": {},
   "source": [
    "### Answer 1C"
   ]
  },
  {
   "cell_type": "code",
   "execution_count": 3,
   "id": "67141fd3",
   "metadata": {},
   "outputs": [],
   "source": [
    "def matrix_to_euler(R):\n",
    "    \"\"\"\n",
    "    Convert a rotation matrix to Euler angles (roll, pitch, yaw) in RPY order.\n",
    "    \n",
    "    Args:\n",
    "        R (np.ndarray): Rotation matrix (3x3).\n",
    "    \n",
    "    Returns:\n",
    "        tuple: Euler angles (roll, pitch, yaw) in radians.\n",
    "    \"\"\"\n",
    "    # Extract pitch angle\n",
    "    pitch = np.arcsin(-R[2, 0])\n",
    "    \n",
    "    # Calculate roll and yaw angles\n",
    "    if np.cos(pitch) != 0:\n",
    "        roll = np.arctan2(R[2, 1], R[2, 2])\n",
    "        yaw = np.arctan2(R[1, 0], R[0, 0])\n",
    "    else:\n",
    "        # Singularity case (pitch = +/-90 degrees)\n",
    "        roll = 0\n",
    "        yaw = np.arctan2(-R[0, 1], R[1, 1])\n",
    "    \n",
    "    return roll, pitch, yaw"
   ]
  },
  {
   "cell_type": "markdown",
   "id": "cc3bf533",
   "metadata": {},
   "source": [
    "### Answer 1D"
   ]
  },
  {
   "cell_type": "code",
   "execution_count": 8,
   "id": "d0acb71a",
   "metadata": {},
   "outputs": [
    {
     "name": "stdout",
     "output_type": "stream",
     "text": [
      "\n",
      "Recovered Euler Angles (in degrees):\n",
      "Roll:\t10.00\n",
      "Pitch:\t20.00\n",
      "Yaw:\t30.00\n"
     ]
    }
   ],
   "source": [
    "from numpy import array, rad2deg\n",
    "\n",
    "# Convert rotation matrix back to Euler angles\n",
    "recovered_roll, recovered_pitch, recovered_yaw = matrix_to_euler(array([\n",
    "    [0.813797681, -0.440969611, 0.378522306], \n",
    "    [0.46984631, 0.882564119, 0.0180283112], \n",
    "    [-0.342020143, 0.163175911, 0.925416578]]))\n",
    "\n",
    "print(\"\\nRecovered Euler Angles (in degrees):\")\n",
    "print(f\"Roll:\\t{rad2deg(recovered_roll):2.02f}\")\n",
    "print(f\"Pitch:\\t{rad2deg(recovered_pitch):2.02f}\")\n",
    "print(f\"Yaw:\\t{rad2deg(recovered_yaw):2.02f}\")"
   ]
  },
  {
   "cell_type": "markdown",
   "id": "bf552a1f",
   "metadata": {},
   "source": [
    "## Question 2\n",
    "2. $3D$ rigid transformation. The coordinates of a $3D$ point in a global frame are\n",
    "\\begin{equation*}\n",
    "l^{G} =( 450,400,50)^{\\top }\n",
    "\\end{equation*}\n",
    "This $\\displaystyle 3D$ point is observed by a camera whose pose is described by the following rotation and translation with respect to the global frame:\n",
    "\\begin{gather*}\n",
    "R_{G}^{C} =\\begin{pmatrix}\n",
    "0.5363 & −0.8440 & 0\\\\\n",
    "0.8440 & 0.5363 & 0\\\\\n",
    "0 & 0 & 1\n",
    "\\end{pmatrix}\\\\\n",
    "t_{C\\rightarrow G}^{G} =( −451.2459,\\ 257.0322,\\ 400)^{\\top }\n",
    "\\end{gather*}\n",
    "Calculate the $\\displaystyle 3D$ point coordinates in a camera frame ($\\displaystyle l^{C} =?$). Write an explicit expression for the appropriate $\\displaystyle 3D$ transformation ($\\displaystyle 4\\times 4$ matrix) in terms of $\\displaystyle R_{G}^{C}$ and $\\displaystyle t_{C\\rightarrow G}^{G}$."
   ]
  },
  {
   "cell_type": "markdown",
   "id": "c854a237",
   "metadata": {},
   "source": [
    "## Answer 2"
   ]
  },
  {
   "cell_type": "code",
   "execution_count": null,
   "id": "f8a3021d",
   "metadata": {},
   "outputs": [],
   "source": []
  }
 ],
 "metadata": {
  "kernelspec": {
   "display_name": "Python 3 (ipykernel)",
   "language": "python",
   "name": "python3"
  },
  "language_info": {
   "codemirror_mode": {
    "name": "ipython",
    "version": 3
   },
   "file_extension": ".py",
   "mimetype": "text/x-python",
   "name": "python",
   "nbconvert_exporter": "python",
   "pygments_lexer": "ipython3",
   "version": "3.9.18"
  }
 },
 "nbformat": 4,
 "nbformat_minor": 5
}
